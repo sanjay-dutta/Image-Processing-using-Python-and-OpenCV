{
 "cells": [
  {
   "cell_type": "code",
   "execution_count": 2,
   "id": "b6224cba",
   "metadata": {},
   "outputs": [],
   "source": [
    "# organizing imports\n",
    "import cv2\n",
    "import numpy as np\n",
    " \n",
    "# path to input image is specified and \n",
    "# image is loaded with imread command\n",
    "image1 = cv2.imread('Images/q.jpg')\n",
    " \n",
    "# cv2.cvtColor is applied over the\n",
    "# image input with applied parameters\n",
    "# to convert the image in grayscale\n",
    "img = cv2.cvtColor(image1, cv2.COLOR_BGR2GRAY)\n",
    " \n",
    "# applying different thresholding\n",
    "# techniques on the input image\n",
    "# all pixels value above 100 will\n",
    "# be set to 255\n",
    "ret, thresh1 = cv2.threshold(img, 100, 255, cv2.THRESH_BINARY)\n",
    "ret, thresh2 = cv2.threshold(img, 100, 255, cv2.THRESH_BINARY_INV)\n",
    "ret, thresh3 = cv2.threshold(img, 100, 255, cv2.THRESH_TRUNC)\n",
    "ret, thresh4 = cv2.threshold(img, 100, 255, cv2.THRESH_TOZERO)\n",
    "ret, thresh5 = cv2.threshold(img, 100, 255, cv2.THRESH_TOZERO_INV)\n",
    " \n",
    "# the window showing output images\n",
    "# with the corresponding thresholding\n",
    "# techniques applied to the input images\n",
    "cv2.imshow('Binary Threshold', thresh1)\n",
    "cv2.imshow('Binary Threshold Inverted', thresh2)\n",
    "cv2.imshow('Truncated Threshold', thresh3)\n",
    "cv2.imshow('Set to 0', thresh4)\n",
    "cv2.imshow('Set to 0 Inverted', thresh5)\n",
    "   \n",
    "# De-allocate any associated memory usage \n",
    "cv2.waitKey(0)\n",
    "cv2.destroyAllWindows()"
   ]
  },
  {
   "cell_type": "code",
   "execution_count": null,
   "id": "9e4d07ef",
   "metadata": {},
   "outputs": [],
   "source": []
  },
  {
   "cell_type": "code",
   "execution_count": null,
   "id": "5bbddb7a",
   "metadata": {},
   "outputs": [],
   "source": []
  }
 ],
 "metadata": {
  "kernelspec": {
   "display_name": "Python 3",
   "language": "python",
   "name": "python3"
  },
  "language_info": {
   "codemirror_mode": {
    "name": "ipython",
    "version": 3
   },
   "file_extension": ".py",
   "mimetype": "text/x-python",
   "name": "python",
   "nbconvert_exporter": "python",
   "pygments_lexer": "ipython3",
   "version": "3.8.8"
  }
 },
 "nbformat": 4,
 "nbformat_minor": 5
}
